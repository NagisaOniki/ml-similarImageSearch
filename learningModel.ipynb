{
 "cells": [
  {
   "cell_type": "code",
   "execution_count": 1,
   "metadata": {},
   "outputs": [],
   "source": [
    "# for Github\n",
    "from PIL import Image\n",
    "import os.path\n",
    "import os\n",
    "import numpy as np\n",
    "import pandas as pd\n",
    "from os import listdir\n",
    "import array\n",
    "import time\n",
    "from chainer.datasets import cifar\n",
    "from annoy import AnnoyIndex\n",
    "import matplotlib.pyplot as plt\n",
    "import numpy as np"
   ]
  },
  {
   "cell_type": "code",
   "execution_count": 2,
   "metadata": {},
   "outputs": [],
   "source": [
    "from os import listdir\n",
    "fltr_list = [filename for filename in listdir() if not filename.startswith('.')]"
   ]
  },
  {
   "cell_type": "code",
   "execution_count": 3,
   "metadata": {},
   "outputs": [],
   "source": [
    "width = 32\n",
    "height = 32\n",
    "rgb = 3\n",
    "n_tree = 500\n",
    "search_k = 500\n",
    "metric = 'manhattan'\n",
    "name = '-size'+str(width)+'x'+str(height)+'x3-tree'+str(n_tree)+'-searchK'+str(search_k)+'-metric_'+metric"
   ]
  },
  {
   "cell_type": "code",
   "execution_count": 4,
   "metadata": {},
   "outputs": [
    {
     "name": "stdout",
     "output_type": "stream",
     "text": [
      "経過時間：110.88942313194275\n"
     ]
    }
   ],
   "source": [
    "def create_train(fileList):\n",
    "    train = []\n",
    "    \n",
    "    labelList = np.array( pd.read_csv('image_category_lables.csv') )\n",
    "    \n",
    "    for fileName in fileList:\n",
    "              \n",
    "        label = \"\";\n",
    "        for labelInfo in labelList: #labelInfo：[image_dir_id, category]\n",
    "                \n",
    "            if labelInfo[0] == fileName:\n",
    "                label = labelInfo[1]\n",
    "                break\n",
    "        \n",
    "        # imageをセット\n",
    "        path = 'train_dataset/' + fileName\n",
    "        images = os.listdir(path)\n",
    "        for imageName in images:\n",
    "        \n",
    "            tmp = []\n",
    "        \n",
    "            #imageとlabelをセットで格納\n",
    "            imageTuple = [] \n",
    "            # 画像を配列で読み込む\n",
    "            image = Image.open('train_dataset/'+fileName+'/'+imageName) \n",
    "            \n",
    "            # resize -> array\n",
    "            image = image.resize((width, height)) \n",
    "            \n",
    "            # 画像を一次元配列に変換\n",
    "            imageFlatten = np.ravel(image)\n",
    "            imageFlatten = imageFlatten.astype(np.float32)\n",
    "            \n",
    "            # 画像の正規化\n",
    "#             imageFlatten = imageFlatten/256\n",
    "\n",
    "            tmp.append(imageFlatten)\n",
    "            tmp.append(label)\n",
    "            tmp.append('./train_dataset/'+fileName+'/'+imageName)\n",
    "            \n",
    "            train.append(tmp)\n",
    "\n",
    "    return train\n",
    "\n",
    "\n",
    "from os import listdir\n",
    "path = './train_dataset'\n",
    "fileList = [filename for filename in listdir(path) if not filename.startswith('.')]\n",
    "\n",
    "t1 = time.time()\n",
    "\n",
    "train = create_train(fileList)\n",
    "\n",
    "t2 = time.time()\n",
    "elapsed_time = t2-t1\n",
    "print(f\"経過時間：{elapsed_time}\")"
   ]
  },
  {
   "cell_type": "code",
   "execution_count": 5,
   "metadata": {},
   "outputs": [
    {
     "data": {
      "text/plain": [
       "46053"
      ]
     },
     "execution_count": 5,
     "metadata": {},
     "output_type": "execute_result"
    }
   ],
   "source": [
    "len(train)"
   ]
  },
  {
   "cell_type": "code",
   "execution_count": 19,
   "metadata": {},
   "outputs": [
    {
     "data": {
      "text/plain": [
       "3072"
      ]
     },
     "execution_count": 19,
     "metadata": {},
     "output_type": "execute_result"
    }
   ],
   "source": [
    "len(train[0][0])"
   ]
  },
  {
   "cell_type": "code",
   "execution_count": 6,
   "metadata": {},
   "outputs": [
    {
     "name": "stdout",
     "output_type": "stream",
     "text": [
      "経過時間：2.427475929260254\n"
     ]
    }
   ],
   "source": [
    "def create_test(fileList):\n",
    "    test = []\n",
    "    id_list = []\n",
    "        \n",
    "    for fileName in fileList:\n",
    "            \n",
    "        # imageをセット\n",
    "        path = 'test_dataset/' + fileName\n",
    "        images = os.listdir(path)\n",
    "        for imageName in images:\n",
    "            # 画像を配列で読み込む\n",
    "            image = Image.open('test_dataset/'+fileName+'/'+imageName) \n",
    "                \n",
    "            # resize -> array\n",
    "            image = image.resize((width, height)) \n",
    "            \n",
    "            # 画像を一次元配列に変換\n",
    "            imageFlatten = np.ravel(image)\n",
    "            imageFlatten = imageFlatten.astype(np.float32)\n",
    "            \n",
    "            # 画像の正規化\n",
    "#             imageFlatten = imageFlatten/256\n",
    "                                  \n",
    "            test.append(imageFlatten)\n",
    "            id_list.append(fileName)\n",
    "\n",
    "    return test,id_list\n",
    "\n",
    "\n",
    "from os import listdir\n",
    "path = './test_dataset'\n",
    "fileList = [filename for filename in listdir(path) if not filename.startswith('.')]\n",
    "\n",
    "t1 = time.time()\n",
    "\n",
    "test,id_list = create_test(fileList)\n",
    "\n",
    "t2 = time.time()\n",
    "elapsed_time = t2-t1\n",
    "print(f\"経過時間：{elapsed_time}\")"
   ]
  },
  {
   "cell_type": "code",
   "execution_count": 7,
   "metadata": {},
   "outputs": [],
   "source": [
    "x = []\n",
    "y = []\n",
    "for i in range(len(train)):\n",
    "    x.append(train[i][0])\n",
    "    y.append(train[i][1])"
   ]
  },
  {
   "cell_type": "code",
   "execution_count": 8,
   "metadata": {},
   "outputs": [
    {
     "name": "stdout",
     "output_type": "stream",
     "text": [
      "経過時間：22.132113933563232\n"
     ]
    }
   ],
   "source": [
    "dim = width * height * rgb\n",
    "annoy_model = AnnoyIndex(dim, metric)\n",
    "\n",
    "t1 = time.time()\n",
    "\n",
    "for i in range(len(x)):\n",
    "    imageVector = x[i]\n",
    "    annoy_model.add_item(i, imageVector)\n",
    "    \n",
    "t2 = time.time()\n",
    "elapsed_time = t2-t1\n",
    "print(f\"経過時間：{elapsed_time}\")\n"
   ]
  },
  {
   "cell_type": "code",
   "execution_count": 9,
   "metadata": {},
   "outputs": [
    {
     "name": "stdout",
     "output_type": "stream",
     "text": [
      "経過時間：91.51725006103516\n"
     ]
    }
   ],
   "source": [
    "t1 = time.time()\n",
    "\n",
    "annoy_model.build(n_tree)\n",
    "\n",
    "t2 = time.time()\n",
    "elapsed_time = t2-t1\n",
    "print(f\"経過時間：{elapsed_time}\")"
   ]
  },
  {
   "cell_type": "code",
   "execution_count": 10,
   "metadata": {},
   "outputs": [],
   "source": [
    "# annoy_model.save(\"similaritySearchModel.ann\")"
   ]
  },
  {
   "cell_type": "code",
   "execution_count": 17,
   "metadata": {},
   "outputs": [
    {
     "name": "stdout",
     "output_type": "stream",
     "text": [
      "100\n",
      "経過時間：0.4679141044616699\n",
      "300\n",
      "経過時間：1.3610057830810547\n",
      "---------------\n",
      "300\n",
      "id_00001197\n",
      "./train_dataset/id_00007893/01_2_side.jpg\n",
      "Shirts\n",
      "---------------\n",
      "---------------\n",
      "300\n",
      "id_00001197\n",
      "./train_dataset/id_00002109/02_2_side.jpg\n",
      "Shirts\n",
      "---------------\n",
      "---------------\n",
      "300\n",
      "id_00001197\n",
      "./train_dataset/id_00000285/02_7_additional.jpg\n",
      "Tees_Tanks\n",
      "---------------\n",
      "---------------\n",
      "300\n",
      "id_00001197\n",
      "./train_dataset/id_00006987/04_3_back.jpg\n",
      "Shirts\n",
      "---------------\n",
      "---------------\n",
      "300\n",
      "id_00001197\n",
      "./train_dataset/id_00000238/01_1_front.jpg\n",
      "Dresses\n",
      "---------------\n",
      "---------------\n",
      "300\n",
      "id_00001197\n",
      "./train_dataset/id_00003082/04_1_front.jpg\n",
      "Shirts\n",
      "---------------\n",
      "---------------\n",
      "300\n",
      "id_00001197\n",
      "./train_dataset/id_00000285/02_4_full.jpg\n",
      "Tees_Tanks\n",
      "---------------\n",
      "---------------\n",
      "300\n",
      "id_00001197\n",
      "./train_dataset/id_00007052/02_2_side.jpg\n",
      "Dresses\n",
      "---------------\n",
      "---------------\n",
      "300\n",
      "id_00001197\n",
      "./train_dataset/id_00006479/01_2_side.jpg\n",
      "Dresses\n",
      "---------------\n",
      "---------------\n",
      "300\n",
      "id_00001197\n",
      "./train_dataset/id_00006479/01_7_additional.jpg\n",
      "Dresses\n",
      "---------------\n",
      "500\n",
      "経過時間：2.1912930011749268\n",
      "---------------\n",
      "500\n",
      "id_00004573\n",
      "./train_dataset/id_00006675/12_3_back.jpg\n",
      "Sweaters\n",
      "---------------\n",
      "---------------\n",
      "500\n",
      "id_00004573\n",
      "./train_dataset/id_00006168/08_1_front.jpg\n",
      "Dresses\n",
      "---------------\n",
      "---------------\n",
      "500\n",
      "id_00004573\n",
      "./train_dataset/id_00003651/08_1_front.jpg\n",
      "Dresses\n",
      "---------------\n",
      "---------------\n",
      "500\n",
      "id_00004573\n",
      "./train_dataset/id_00003819/02_1_front.jpg\n",
      "Shirts\n",
      "---------------\n",
      "---------------\n",
      "500\n",
      "id_00004573\n",
      "./train_dataset/id_00000348/05_1_front.jpg\n",
      "Dresses\n",
      "---------------\n",
      "---------------\n",
      "500\n",
      "id_00004573\n",
      "./train_dataset/id_00007046/04_7_additional.jpg\n",
      "Dresses\n",
      "---------------\n",
      "---------------\n",
      "500\n",
      "id_00004573\n",
      "./train_dataset/id_00005316/08_3_back.jpg\n",
      "Tees_Tanks\n",
      "---------------\n",
      "---------------\n",
      "500\n",
      "id_00004573\n",
      "./train_dataset/id_00001439/04_3_back.jpg\n",
      "Dresses\n",
      "---------------\n",
      "---------------\n",
      "500\n",
      "id_00004573\n",
      "./train_dataset/id_00006982/06_7_additional.jpg\n",
      "Shirts\n",
      "---------------\n",
      "---------------\n",
      "500\n",
      "id_00004573\n",
      "./train_dataset/id_00003603/06_1_front.jpg\n",
      "Dresses\n",
      "---------------\n",
      "---------------\n",
      "999\n",
      "id_00005477\n",
      "./train_dataset/id_00004053/08_2_side.jpg\n",
      "Tees_Tanks\n",
      "---------------\n",
      "---------------\n",
      "999\n",
      "id_00005477\n",
      "./train_dataset/id_00000212/01_7_additional.jpg\n",
      "Tees_Tanks\n",
      "---------------\n",
      "---------------\n",
      "999\n",
      "id_00005477\n",
      "./train_dataset/id_00001719/01_3_back.jpg\n",
      "Shirts\n",
      "---------------\n",
      "---------------\n",
      "999\n",
      "id_00005477\n",
      "./train_dataset/id_00004272/02_3_back.jpg\n",
      "Shirts\n",
      "---------------\n",
      "---------------\n",
      "999\n",
      "id_00005477\n",
      "./train_dataset/id_00002201/41_3_back.jpg\n",
      "Tees_Tanks\n",
      "---------------\n",
      "---------------\n",
      "999\n",
      "id_00005477\n",
      "./train_dataset/id_00007055/25_2_side.jpg\n",
      "Skirts\n",
      "---------------\n",
      "---------------\n",
      "999\n",
      "id_00005477\n",
      "./train_dataset/id_00004163/04_2_side.jpg\n",
      "Pants\n",
      "---------------\n",
      "---------------\n",
      "999\n",
      "id_00005477\n",
      "./train_dataset/id_00003443/05_7_additional.jpg\n",
      "Rompers_Jumpsuits\n",
      "---------------\n",
      "---------------\n",
      "999\n",
      "id_00005477\n",
      "./train_dataset/id_00003791/01_3_back.jpg\n",
      "Shirts\n",
      "---------------\n",
      "---------------\n",
      "999\n",
      "id_00005477\n",
      "./train_dataset/id_00003193/06_1_front.jpg\n",
      "Skirts\n",
      "---------------\n",
      "経過時間：4.433125019073486\n"
     ]
    }
   ],
   "source": [
    "predict = []\n",
    "ids = []\n",
    "\n",
    "t1 = time.time()\n",
    "\n",
    "for i in range(len(test)):\n",
    "    imageVector = test[i]\n",
    "    if i == 100 or i == 300 or i == 500:\n",
    "        t2_1 = time.time()\n",
    "        elapsed_time = t2_1-t1\n",
    "        print(i)\n",
    "        print(f\"経過時間：{elapsed_time}\")\n",
    "\n",
    "    \n",
    "    # trainの写真のインデックスを返している\n",
    "    predict_index = annoy_model.get_nns_by_vector(imageVector, 10 , search_k=search_k )\n",
    "    \n",
    "    for j in range(len(predict_index)):\n",
    "        # train[predict_index[j]] が類似画像なので，対応するラベルをsubmtにする\n",
    "        \n",
    "        predict_label = train[predict_index[j]][1]\n",
    "                \n",
    "        ids.append(id_list[i])\n",
    "        predict.append(predict_label)\n",
    "    \n",
    "t2 = time.time()\n",
    "elapsed_time = t2-t1\n",
    "print(f\"経過時間：{elapsed_time}\")"
   ]
  },
  {
   "cell_type": "code",
   "execution_count": 13,
   "metadata": {},
   "outputs": [],
   "source": [
    "submit = pd.DataFrame()\n",
    "submit['id'] = ids\n",
    "submit['pred'] = predict\n",
    "submit.to_csv('result'+name+'.csv' ,header=False, index=False)"
   ]
  },
  {
   "cell_type": "code",
   "execution_count": null,
   "metadata": {},
   "outputs": [],
   "source": []
  }
 ],
 "metadata": {
  "kernelspec": {
   "display_name": "Python 3",
   "language": "python",
   "name": "python3"
  },
  "language_info": {
   "codemirror_mode": {
    "name": "ipython",
    "version": 3
   },
   "file_extension": ".py",
   "mimetype": "text/x-python",
   "name": "python",
   "nbconvert_exporter": "python",
   "pygments_lexer": "ipython3",
   "version": "3.7.3"
  }
 },
 "nbformat": 4,
 "nbformat_minor": 2
}
